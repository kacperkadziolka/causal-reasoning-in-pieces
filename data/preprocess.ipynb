{
 "cells": [
  {
   "cell_type": "code",
   "id": "initial_id",
   "metadata": {
    "collapsed": true,
    "ExecuteTime": {
     "end_time": "2025-05-05T15:53:10.534933Z",
     "start_time": "2025-05-05T15:53:10.228334Z"
    }
   },
   "source": [
    "import pathlib\n",
    "import pandas as pd\n",
    "import numpy as np"
   ],
   "outputs": [],
   "execution_count": 1
  },
  {
   "metadata": {
    "ExecuteTime": {
     "end_time": "2025-05-05T15:53:36.883668Z",
     "start_time": "2025-05-05T15:53:36.880805Z"
    }
   },
   "cell_type": "code",
   "source": [
    "DATA_FILE   = \"test_dataset.csv\"\n",
    "OUT_DIR     = pathlib.Path(\"test_dataset_splits\")\n",
    "N_SPLITS    = 2"
   ],
   "id": "26aa5bed0247e0fd",
   "outputs": [],
   "execution_count": 2
  },
  {
   "metadata": {
    "ExecuteTime": {
     "end_time": "2025-05-05T15:53:38.282564Z",
     "start_time": "2025-05-05T15:53:38.251649Z"
    }
   },
   "cell_type": "code",
   "source": [
    "df = pd.read_csv(DATA_FILE)\n",
    "df[\"sample_id\"] = df.index\n",
    "shuffled = df.sample(frac=1).reset_index(drop=True)\n",
    "chunks = np.array_split(shuffled, N_SPLITS)"
   ],
   "id": "b51357723e036247",
   "outputs": [
    {
     "name": "stderr",
     "output_type": "stream",
     "text": [
      "/home/kacperkadziolka/miniconda3/envs/local_env/lib/python3.12/site-packages/numpy/core/fromnumeric.py:59: FutureWarning: 'DataFrame.swapaxes' is deprecated and will be removed in a future version. Please use 'DataFrame.transpose' instead.\n",
      "  return bound(*args, **kwds)\n"
     ]
    }
   ],
   "execution_count": 3
  },
  {
   "metadata": {
    "ExecuteTime": {
     "end_time": "2025-05-05T15:53:40.497209Z",
     "start_time": "2025-05-05T15:53:40.441429Z"
    }
   },
   "cell_type": "code",
   "source": [
    "OUT_DIR.mkdir(exist_ok=True)\n",
    "for i, chunk in enumerate(chunks, start=1):\n",
    "    chunk.to_csv(OUT_DIR / f\"split_{i:02d}.csv\", index=False)\n",
    "\n",
    "print(f\"Wrote {len(chunks)} files to {OUT_DIR.resolve()}\")"
   ],
   "id": "ca309ec088429282",
   "outputs": [
    {
     "name": "stdout",
     "output_type": "stream",
     "text": [
      "Wrote 2 files to /home/kacperkadziolka/University/Master's thesis/data/baseline_splits\n"
     ]
    }
   ],
   "execution_count": 4
  }
 ],
 "metadata": {
  "kernelspec": {
   "display_name": "Python 3",
   "language": "python",
   "name": "python3"
  },
  "language_info": {
   "codemirror_mode": {
    "name": "ipython",
    "version": 2
   },
   "file_extension": ".py",
   "mimetype": "text/x-python",
   "name": "python",
   "nbconvert_exporter": "python",
   "pygments_lexer": "ipython2",
   "version": "2.7.6"
  }
 },
 "nbformat": 4,
 "nbformat_minor": 5
}
